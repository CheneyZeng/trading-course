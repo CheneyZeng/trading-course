{
 "cells": [
  {
   "cell_type": "code",
   "execution_count": 24,
   "metadata": {
    "collapsed": true
   },
   "outputs": [],
   "source": [
    "import numpy as np\n",
    "import matplotlib.pyplot as plt\n",
    "from matplotlib import style\n",
    "import pandas as pd\n",
    "import pandas_datareader.data as wb\n",
    "\n",
    "%matplotlib inline"
   ]
  },
  {
   "cell_type": "code",
   "execution_count": 57,
   "metadata": {
    "collapsed": false
   },
   "outputs": [],
   "source": [
    "def get_data(start, end, symbol):\n",
    "    df = wb.DataReader(symbol,'yahoo',start, end)\n",
    "    return df"
   ]
  },
  {
   "cell_type": "code",
   "execution_count": 61,
   "metadata": {
    "collapsed": false
   },
   "outputs": [],
   "source": [
    "def plot_df(df):\n",
    "    style.use('ggplot')\n",
    "    df['Adj Close',:,0].plot()\n",
    "    plt.show()"
   ]
  },
  {
   "cell_type": "code",
   "execution_count": null,
   "metadata": {
    "collapsed": true
   },
   "outputs": [],
   "source": [
    "# calculate all of the index here, cumulative return, average daily return, Sharpe Ratio\n",
    "def calculate_portfolio(df)\n",
    "\n",
    "    return portfolio"
   ]
  },
  {
   "cell_type": "code",
   "execution_count": 62,
   "metadata": {
    "collapsed": false
   },
   "outputs": [
    {
     "name": "stdout",
     "output_type": "stream",
     "text": [
      "             Adj Close       Close        High         Low        Open  \\\n",
      "Date                                                                     \n",
      "2016-12-30  213.690002  213.690002  217.500000  211.679993  216.300003   \n",
      "2016-12-29  214.679993  214.679993  219.199997  214.119995  218.559998   \n",
      "2016-12-28  219.740005  219.740005  223.800003  217.199997  221.529999   \n",
      "2016-12-27  219.529999  219.529999  222.250000  214.419998  214.880005   \n",
      "2016-12-23  213.339996  213.339996  213.449997  207.710007  208.000000   \n",
      "\n",
      "               Volume  \n",
      "Date                   \n",
      "2016-12-30  4642600.0  \n",
      "2016-12-29  4035900.0  \n",
      "2016-12-28  3782500.0  \n",
      "2016-12-27  5915700.0  \n",
      "2016-12-23  4662900.0  \n"
     ]
    },
    {
     "data": {
      "image/png": "[encoded data removed]",
      "text/plain": [
       "<matplotlib.figure.Figure at 0x1fd7292b7f0>"
      ]
     },
     "metadata": {},
     "output_type": "display_data"
    }
   ],
   "source": [
    "if __name__ == \"__main__\":\n",
    "    start = pd.to_datetime('2000-01-01')\n",
    "    end = pd.to_datetime('2016-12-31')\n",
    "    symbol = ['TSLA']\n",
    "    df = get_data(start,end,symbol)\n",
    "    print(df[:,:,0].head())\n",
    "    \n",
    "    plot_df(df)\n",
    "    \n",
    "    #portfolio = calculate_portfolio(df) #structure of portfolio"
   ]
  }
 ],
 "metadata": {
  "anaconda-cloud": {},
  "kernelspec": {
   "display_name": "Python [default]",
   "language": "python",
   "name": "python3"
  },
  "language_info": {
   "codemirror_mode": {
    "name": "ipython",
    "version": 3
   },
   "file_extension": ".py",
   "mimetype": "text/x-python",
   "name": "python",
   "nbconvert_exporter": "python",
   "pygments_lexer": "ipython3",
   "version": "3.5.2"
  }
 },
 "nbformat": 4,
 "nbformat_minor": 1
}
