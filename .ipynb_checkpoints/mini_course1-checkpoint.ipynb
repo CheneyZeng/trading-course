{
 "cells": [
  {
   "cell_type": "code",
   "execution_count": 30,
   "metadata": {
    "collapsed": true
   },
   "outputs": [],
   "source": [
    "import numpy as np\n",
    "import matplotlib.pyplot as plt\n",
    "from matplotlib import style\n",
    "import pandas as pd\n",
    "import pandas_datareader.data as wb\n",
    "import warnings\n",
    "warnings.filterwarnings(\"ignore\")\n",
    "\n",
    "%matplotlib inline"
   ]
  },
  {
   "cell_type": "code",
   "execution_count": 5,
   "metadata": {
    "collapsed": false
   },
   "outputs": [],
   "source": [
    "def get_data(start, end, symbol):\n",
    "    df = wb.DataReader(symbol,'google',start, end)\n",
    "    return df"
   ]
  },
  {
   "cell_type": "code",
   "execution_count": 21,
   "metadata": {
    "collapsed": false
   },
   "outputs": [],
   "source": [
    "#need to iterate to the correct symbol!\n",
    "def plot_df(df, key):\n",
    "    style.use('ggplot')\n",
    "    ax = df[key,:,0].plot(title=key, fontsize=12)\n",
    "    ax.set_xlabel(\"Date\")\n",
    "    ax.set_ylabel(\"Price\")\n",
    "    plt.show()"
   ]
  },
  {
   "cell_type": "code",
   "execution_count": 34,
   "metadata": {
    "collapsed": true
   },
   "outputs": [],
   "source": [
    "#need to iterate to the correct symbol!\n",
    "def plot_rolling(df,key,windows,title):\n",
    "    mean = pd.rolling_mean(df[key,:,0],windows)\n",
    "    std = pd.rolling_std(df[key,:,0],windows)\n",
    "    upper = mean+std\n",
    "    lower = mean-std\n",
    "    \n",
    "    style.use('ggplot')\n",
    "    ax = mean.plot(label=key+' mean',title=title, fontsize=12)\n",
    "    upper.plot(label=key+' upper band',ax=ax)\n",
    "    lower.plot(label=key+' lower band',ax=ax)\n",
    "    ax.set_xlabel(\"Date\",fontsize=12)\n",
    "    ax.set_ylabel(\"Price\",fontsize=12)\n",
    "    ax.legend()\n",
    "    plt.show()"
   ]
  },
  {
   "cell_type": "code",
   "execution_count": null,
   "metadata": {
    "collapsed": true
   },
   "outputs": [],
   "source": [
    "# calculate all of the index here, cumulative return, average daily return, Sharpe Ratio\n",
    "def calculate_portfolio(df)\n",
    "\n",
    "    return portfolio"
   ]
  },
  {
   "cell_type": "code",
   "execution_count": 38,
   "metadata": {
    "collapsed": false
   },
   "outputs": [
    {
     "name": "stdout",
     "output_type": "stream",
     "text": [
      "(5, 251, 2)\n",
      "              Open    High     Low   Close     Volume\n",
      "Date                                                 \n",
      "2016-11-21  185.04  188.89  184.41  184.52  4361043.0\n",
      "2016-11-22  185.84  191.47  183.71  191.17  5603361.0\n",
      "2016-11-23  190.61  195.64  189.00  193.14  4891893.0\n",
      "2016-11-25  193.64  197.24  193.64  196.65  2366098.0\n",
      "2016-11-28  195.48  199.35  194.55  196.12  4529182.0\n"
     ]
    }
   ],
   "source": [
    "if __name__ == \"__main__\":\n",
    "    start = pd.to_datetime('2000-01-01')\n",
    "    end = pd.to_datetime('2016-12-31')\n",
    "    symbol = ['TSLA','GOOG']\n",
    "    df = get_data(start,end,symbol)\n",
    "    print(df.shape)\n",
    "    print(df[:,:,1].head())\n",
    "    \n",
    "    #plot specific column ['Open', 'High', 'Low', 'Close', 'Volume']\n",
    "    #plot_df(df, key='Open')\n",
    "    #plot_rolling(df,key='Open',windows=5,title='Rolling plot')\n",
    "    \n",
    "    #portfolio = calculate_portfolio(df) #structure of portfolio"
   ]
  },
  {
   "cell_type": "code",
   "execution_count": 25,
   "metadata": {
    "collapsed": false
   },
   "outputs": [
    {
     "name": "stdout",
     "output_type": "stream",
     "text": [
      "symmean\n"
     ]
    }
   ],
   "source": [
    "key='sym'\n",
    "print(key+'mean')"
   ]
  }
 ],
 "metadata": {
  "anaconda-cloud": {},
  "kernelspec": {
   "display_name": "Python [default]",
   "language": "python",
   "name": "python3"
  },
  "language_info": {
   "codemirror_mode": {
    "name": "ipython",
    "version": 3
   },
   "file_extension": ".py",
   "mimetype": "text/x-python",
   "name": "python",
   "nbconvert_exporter": "python",
   "pygments_lexer": "ipython3",
   "version": "3.5.2"
  }
 },
 "nbformat": 4,
 "nbformat_minor": 1
}
